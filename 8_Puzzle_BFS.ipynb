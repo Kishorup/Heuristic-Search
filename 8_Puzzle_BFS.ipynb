{
  "nbformat": 4,
  "nbformat_minor": 0,
  "metadata": {
    "colab": {
      "provenance": [],
      "authorship_tag": "ABX9TyNFeRjB+bxpSZKxRB2E6aQ9",
      "include_colab_link": true
    },
    "kernelspec": {
      "name": "python3",
      "display_name": "Python 3"
    },
    "language_info": {
      "name": "python"
    }
  },
  "cells": [
    {
      "cell_type": "markdown",
      "metadata": {
        "id": "view-in-github",
        "colab_type": "text"
      },
      "source": [
        "<a href=\"https://colab.research.google.com/github/Kishorup/Heuristic-Search/blob/main/8_Puzzle_BFS.ipynb\" target=\"_parent\"><img src=\"https://colab.research.google.com/assets/colab-badge.svg\" alt=\"Open In Colab\"/></a>"
      ]
    },
    {
      "cell_type": "code",
      "execution_count": 1,
      "metadata": {
        "colab": {
          "base_uri": "https://localhost:8080/"
        },
        "id": "Nwj9O6BO0bQV",
        "outputId": "163b4b8c-5948-4c0b-e9ae-0efb4c06fe35"
      },
      "outputs": [
        {
          "output_type": "stream",
          "name": "stdout",
          "text": [
            "Initial State:\n",
            "[1, 2, 3]\n",
            "[4, 0, 5]\n",
            "[7, 8, 6]\n",
            "\n",
            "Initial Manhattan Distance: 2\n",
            "\n",
            "Solution found in 2 moves:\n",
            "['right', 'down']\n"
          ]
        }
      ],
      "source": [
        "from collections import deque\n",
        "import copy\n",
        "\n",
        "GOAL_STATE = [[1, 2, 3],\n",
        "              [4, 5, 6],\n",
        "              [7, 8, 0]]\n",
        "\n",
        "MOVES = {\n",
        "    'up': (-1, 0),\n",
        "    'down': (1, 0),\n",
        "    'left': (0, -1),\n",
        "    'right': (0, 1)\n",
        "}\n",
        "\n",
        "def manhattan_distance(state):\n",
        "    distance = 0\n",
        "    for i in range(3):\n",
        "        for j in range(3):\n",
        "            val = state[i][j]\n",
        "            if val != 0:\n",
        "                goal_x, goal_y = (val - 1) // 3, (val - 1) % 3\n",
        "                distance += abs(goal_x - i) + abs(goal_y - j)\n",
        "    return distance\n",
        "\n",
        "def get_blank_position(state):\n",
        "    for i in range(3):\n",
        "        for j in range(3):\n",
        "            if state[i][j] == 0:\n",
        "                return i, j\n",
        "\n",
        "def state_to_tuple(state):\n",
        "    return tuple(num for row in state for num in row)\n",
        "\n",
        "def generate_moves(state):\n",
        "    blank_i, blank_j = get_blank_position(state)\n",
        "    possible_moves = []\n",
        "    for move, (di, dj) in MOVES.items():\n",
        "        new_i, new_j = blank_i + di, blank_j + dj\n",
        "        if 0 <= new_i < 3 and 0 <= new_j < 3:\n",
        "            new_state = copy.deepcopy(state)\n",
        "            new_state[blank_i][blank_j], new_state[new_i][new_j] = new_state[new_i][new_j], new_state[blank_i][blank_j]\n",
        "            possible_moves.append((move, new_state))\n",
        "    return possible_moves\n",
        "\n",
        "def bfs(start_state):\n",
        "    queue = deque()\n",
        "    visited = set()\n",
        "\n",
        "    queue.append((start_state, []))\n",
        "    visited.add(state_to_tuple(start_state))\n",
        "\n",
        "    while queue:\n",
        "        current_state, path = queue.popleft()\n",
        "        if current_state == GOAL_STATE:\n",
        "            return path\n",
        "        for move, next_state in generate_moves(current_state):\n",
        "            state_key = state_to_tuple(next_state)\n",
        "            if state_key not in visited:\n",
        "                visited.add(state_key)\n",
        "                queue.append((next_state, path + [move]))\n",
        "    return None\n",
        "\n",
        "def print_state(state):\n",
        "    for row in state:\n",
        "        print(row)\n",
        "    print()\n",
        "\n",
        "# Example initial state for testing\n",
        "initial_state = [\n",
        "    [1, 2, 3],\n",
        "    [4, 0, 5],\n",
        "    [7, 8, 6]\n",
        "]\n",
        "\n",
        "print(\"Initial State:\")\n",
        "print_state(initial_state)\n",
        "print(f\"Initial Manhattan Distance: {manhattan_distance(initial_state)}\\n\")\n",
        "\n",
        "solution = bfs(initial_state)\n",
        "\n",
        "if solution:\n",
        "    print(f\"Solution found in {len(solution)} moves:\")\n",
        "    print(solution)\n",
        "else:\n",
        "    print(\"No solution found.\")\n"
      ]
    }
  ]
}